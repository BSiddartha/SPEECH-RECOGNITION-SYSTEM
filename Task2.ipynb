{
 "cells": [
  {
   "cell_type": "code",
   "execution_count": 4,
   "id": "4bc2b44d-34e9-45a2-9c84-69d7fde00618",
   "metadata": {},
   "outputs": [
    {
     "name": "stdout",
     "output_type": "stream",
     "text": [
      "Requirement already satisfied: speechrecognition in c:\\users\\sidda\\appdata\\local\\programs\\python\\python312\\lib\\site-packages (3.14.2)Note: you may need to restart the kernel to use updated packages.\n",
      "\n",
      "Requirement already satisfied: pydub in c:\\users\\sidda\\appdata\\local\\programs\\python\\python312\\lib\\site-packages (0.25.1)\n",
      "Requirement already satisfied: typing-extensions in c:\\users\\sidda\\appdata\\local\\programs\\python\\python312\\lib\\site-packages (from speechrecognition) (4.12.2)\n"
     ]
    }
   ],
   "source": [
    "pip install speechrecognition pydub"
   ]
  },
  {
   "cell_type": "code",
   "execution_count": 5,
   "id": "057c334b-fd56-4124-862e-0bec0616d83b",
   "metadata": {},
   "outputs": [],
   "source": [
    "import speech_recognition as sr\n",
    "from pydub import AudioSegment\n",
    "import os"
   ]
  },
  {
   "cell_type": "code",
   "execution_count": 6,
   "id": "a3455e1c-f0fa-43ca-bf6f-4a8fae3482e8",
   "metadata": {},
   "outputs": [],
   "source": [
    "mp3_path = \"C:\\\\Users\\\\sidda\\\\Downloads\\\\audio.mp3\"  # Update this with the correct path\n",
    "wav_path = \"C:\\\\Users\\\\sidda\\\\Downloads\\\\audio.wav\""
   ]
  },
  {
   "cell_type": "code",
   "execution_count": 7,
   "id": "98e1c4b5-3aa0-4306-8861-5f84f4a1805c",
   "metadata": {},
   "outputs": [
    {
     "name": "stdout",
     "output_type": "stream",
     "text": [
      "🔄 Converting MP3 to WAV...\n",
      "✅ Conversion successful! WAV file saved at: C:\\Users\\sidda\\Downloads\\audio.wav\n"
     ]
    }
   ],
   "source": [
    "if not os.path.exists(mp3_path):\n",
    "    print(f\"❌ Error: File not found at {mp3_path}\")\n",
    "else:\n",
    "    try:\n",
    "        print(\"🔄 Converting MP3 to WAV...\")\n",
    "        sound = AudioSegment.from_mp3(mp3_path)\n",
    "        sound.export(wav_path, format=\"wav\")\n",
    "        print(f\"✅ Conversion successful! WAV file saved at: {wav_path}\")\n",
    "    except Exception as e:\n",
    "        print(f\"❌ Error during conversion: {e}\")"
   ]
  },
  {
   "cell_type": "code",
   "execution_count": 8,
   "id": "60379db6-3aeb-4d33-a52b-4ade9e13cae9",
   "metadata": {},
   "outputs": [],
   "source": [
    "recognizer = sr.Recognizer()"
   ]
  },
  {
   "cell_type": "code",
   "execution_count": 11,
   "id": "126bc18c-6070-4dc0-9121-16266c5ed467",
   "metadata": {},
   "outputs": [
    {
     "name": "stdout",
     "output_type": "stream",
     "text": [
      "🔊 Processing audio file...\n",
      "📝 Recognizing speech...\n",
      "✅ Transcription:  good boy\n",
      "📄 Transcription saved at: C:\\Users\\sidda\\Downloads\\transcription.txt\n"
     ]
    }
   ],
   "source": [
    "try:\n",
    "    with sr.AudioFile(wav_path) as source:\n",
    "        print(\"🔊 Processing audio file...\")\n",
    "        audio = recognizer.record(source)  # Record the entire audio file\n",
    "\n",
    "    # Convert speech to text\n",
    "    print(\"📝 Recognizing speech...\")\n",
    "    text = recognizer.recognize_google(audio)\n",
    "    print(\"✅ Transcription: \", text)\n",
    "\n",
    "    # Save the text output\n",
    "    output_txt_path = \"C:\\\\Users\\\\sidda\\\\Downloads\\\\transcription.txt\"\n",
    "    with open(output_txt_path, \"w\") as file:\n",
    "        file.write(text)\n",
    "    print(f\"📄 Transcription saved at: {output_txt_path}\")\n",
    "except sr.UnknownValueError:\n",
    "    print(\"⚠️ Speech Recognition could not understand the audio.\")\n",
    "except sr.RequestError as e:\n",
    "    print(f\"❌ Could not request results from Google Speech Recognition service; {e}\")\n",
    "except FileNotFoundError:\n",
    "    print(\"❌ Audio file not found.\")\n",
    "except Exception as e:\n",
    "    print(f\"❌ An error occurred: {e}\")"
   ]
  },
  {
   "cell_type": "code",
   "execution_count": null,
   "id": "8f130725-72fc-49a5-acd3-5f833daf02da",
   "metadata": {},
   "outputs": [],
   "source": []
  }
 ],
 "metadata": {
  "kernelspec": {
   "display_name": "Python 3 (ipykernel)",
   "language": "python",
   "name": "python3"
  },
  "language_info": {
   "codemirror_mode": {
    "name": "ipython",
    "version": 3
   },
   "file_extension": ".py",
   "mimetype": "text/x-python",
   "name": "python",
   "nbconvert_exporter": "python",
   "pygments_lexer": "ipython3",
   "version": "3.12.6"
  }
 },
 "nbformat": 4,
 "nbformat_minor": 5
}
